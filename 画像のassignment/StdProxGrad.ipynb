{
 "cells": [
  {
   "cell_type": "code",
   "execution_count": 1,
   "metadata": {},
   "outputs": [],
   "source": [
    "import numpy as np\n",
    "import matplotlib.pyplot as plt\n",
    "from numpy import linalg as LA\n",
    "from copy import deepcopy\n",
    "import pandas as pd\n",
    "from sklearn import preprocessing"
   ]
  },
  {
   "cell_type": "code",
   "execution_count": 5,
   "metadata": {},
   "outputs": [],
   "source": [
    "#lam = 0.5\n",
    "gamma=0.5\n",
    "def sm_loss(X,y,w):\n",
    "    phi_z=[]\n",
    "    for i in range(len(X)):\n",
    "        z=y[i]*np.dot(w, X[i])\n",
    "        if z>=1:\n",
    "            phi_z.append(0)\n",
    "        elif (1-gamma)<z<1:\n",
    "            phi_z.append((1-z)**2/(2*gamma))\n",
    "        else:\n",
    "            phi_z.append(1-0.5*gamma-z)\n",
    "        \n",
    "    return np.sum(phi_z)\n",
    "def objective(X,y,w, lam):\n",
    "    tmp=[]\n",
    "    n_samples, m_features = X.shape\n",
    "    return sm_loss(X,y,w)/n_samples+lam*np.sum(np.abs(w))\n",
    "\n",
    "def prox(z, m_features):\n",
    "    w = np.zeros(m_features,dtype=float)\n",
    "    for i in range(m_features):\n",
    "        if z[i] > lam:\n",
    "            w[i] = z[i] - lam\n",
    "        elif -lam < z[i] < lam:\n",
    "            w[i]= 0\n",
    "        else:\n",
    "            w[i] = z[i] + lam\n",
    "    return w"
   ]
  },
  {
   "cell_type": "code",
   "execution_count": 3,
   "metadata": {},
   "outputs": [],
   "source": [
    "def lasso_proximal_gradient(X, y, lam, L=1, max_iter=1000,tol=0.001 ):\n",
    "    beta = 0.5\n",
    "    n_samples, m_features = X.shape\n",
    "    w = np.empty(m_features, dtype=float)\n",
    "    w_pre = np.empty(m_features,dtype=float)\n",
    "    #grad_w=np.empty(m_features,dtype=float)\n",
    "    prox_thres = lam/L\n",
    "    h_prox_optval = np.empty(max_iter, dtype=float)\n",
    "    path=[]\n",
    "    for k in range(max_iter):\n",
    "        los_w_tmp=[]\n",
    "        w_tmp=np.zeros(m_features,dtype=float)\n",
    "        for i,x in enumerate(X):\n",
    "            if (y[i]*np.dot(X[i],w))>=1:\n",
    "                grad_w = np.zeros(m_features,dtype=float)\n",
    "            elif -0.5<(y[i]*np.dot(X[i],w))<1:\n",
    "                grad_w = 2*(1-y[i]*np.dot(X[i],w))*X[i]*y[i]\n",
    "            else:\n",
    "                grad_w = X[i]*y[i]\n",
    "           #w_tmp = np.sign(w-grad_w/L)*np.maximum(np.abs(w-grad_w/L)-prox_thres,0)\n",
    "            z = w - grad_w/L\n",
    "            w_tmp = prox(z, m_features)\n",
    "            w_diff = w_tmp-w\n",
    "            los_w_tmp.append(sm_loss(X, y, w_tmp))\n",
    "            if sm_loss(X, y, w_tmp) <= sm_loss(X, y, w) + np.dot(grad_w, w_diff) + L/2 * np.sum(w_diff**2):\n",
    "                break\n",
    "        L = L / beta\n",
    "        w_pre=deepcopy(w)\n",
    "        w = deepcopy(w_tmp)\n",
    "        path.append(w)\n",
    "        h_prox_optval[k] = objective(X, y,w,lam)\n",
    "        if k>0 and abs(h_prox_optval[k]-h_prox_optval[k-1])<tol:\n",
    "            break\n",
    "    return path,w, h_prox_optval[:k+1]    \n",
    "\n",
    "def lasso_proximal_gradient_acc_ver(X, y, lam, L=1, max_iter=1000,tol=1e-4 ):\n",
    "    beta = 0.5\n",
    "    n_samples, m_features = X.shape\n",
    "    s = [1]*max_iter\n",
    "    w = np.empty(m_features, dtype=float)\n",
    "    v = w\n",
    "    w_pre = np.empty(m_features,dtype=float)\n",
    "    #grad_w=np.empty(m_features,dtype=float)\n",
    "    prox_thres = lam/L\n",
    "    h_prox_optval = np.empty(max_iter, dtype=float)\n",
    "    path=[]\n",
    "    for k in range(max_iter):\n",
    "        los_w_tmp=[]\n",
    "        w_tmp=np.zeros(m_features,dtype=float)\n",
    "        for i,x in enumerate(X):\n",
    "            if (y[i]*np.dot(X[i],w))>=1:\n",
    "                grad_w = np.zeros(m_features,dtype=float)\n",
    "            elif -0.5<(y[i]*np.dot(X[i],w))<1:\n",
    "                grad_w = 2*(1-X[i]*y[i]*w)*X[i]*y[i]\n",
    "            else:\n",
    "                grad_w = X[i]*y[i]\n",
    "            #w_tmp = np.sign(v-grad_w/L)*np.maximum(np.abs(v-grad_w/L)-prox_thres,0)\n",
    "            z = w - grad_w/L\n",
    "            w_tmp = prox(z, m_features)\n",
    "            w_diff = w_tmp-w\n",
    "            los_w_tmp.append(sm_loss(X, y, w_tmp))\n",
    "            if sm_loss(X, y, w_tmp) <= sm_loss(X, y, w) + np.dot(grad_w, w_diff) + L/2 * np.sum(w_diff**2):\n",
    "                break\n",
    "        s[k+1]=(1+(1+4*s[k])**(1/2))/2\n",
    "        v=w_tmp + ((1-s[k])/s[k+1])*(w-w_tmp)\n",
    "        L = L / beta\n",
    "        w_pre=deepcopy(w)\n",
    "        w = deepcopy(w_tmp)\n",
    "        path.append(w)\n",
    "        h_prox_optval[k] = objective(X, y,w,lam)\n",
    "        if k>0 and abs(h_prox_optval[k]-h_prox_optval[k-1])<tol:\n",
    "            break\n",
    "    return path,w, h_prox_optval[:k+1]  "
   ]
  },
  {
   "cell_type": "code",
   "execution_count": 4,
   "metadata": {},
   "outputs": [],
   "source": [
    "dataset = np.random.uniform(-1,1,(100,2))\n",
    "po_data = [val for val in dataset if val[0]>0]\n",
    "ne_data=[val for val in dataset if val[0]<0]\n",
    "po_data = np.array(po_data)\n",
    "ne_data = np.array(ne_data)\n",
    "y=[1]*len(po_data)+[-1]*len(ne_data)\n",
    "# po_frame = pd.DataFrame(po_data)\n",
    "# ne_frame = pd.DataFrame(ne_data)\n",
    "# data_frame = pd.concat([po_frame, ne_frame])\n",
    "# data_frame['y'] = y\n",
    "\n",
    "# run function on this dataset\n"
   ]
  },
  {
   "cell_type": "code",
   "execution_count": 42,
   "metadata": {},
   "outputs": [],
   "source": [
    "x_p = [row[0] for row in po_data]\n",
    "y_p = [row[1] for row in po_data]\n",
    "x_n = [row[0] for row in ne_data]\n",
    "y_n = [row[1] for row in ne_data]"
   ]
  },
  {
   "cell_type": "code",
   "execution_count": 44,
   "metadata": {},
   "outputs": [
    {
     "data": {
      "image/png": "[encoded data removed]",
      "text/plain": [
       "<Figure size 432x288 with 1 Axes>"
      ]
     },
     "metadata": {
      "needs_background": "light"
     },
     "output_type": "display_data"
    }
   ],
   "source": [
    "plt.scatter(x_p, y_p)\n",
    "plt.scatter(x_n, y_n)\n",
    "plt.savefig('toy_data_distribution')"
   ]
  },
  {
   "cell_type": "code",
   "execution_count": 76,
   "metadata": {},
   "outputs": [],
   "source": [
    "path,w, h_prox_optval=lasso_proximal_gradient(dataset, y, 0.1,tol=0.01 )\n",
    "path_acc,w_acc, h_prox_optval_acc=lasso_proximal_gradient_acc_ver(dataset, y, 0.1,tol=0.01 )"
   ]
  },
  {
   "cell_type": "code",
   "execution_count": 77,
   "metadata": {},
   "outputs": [
    {
     "data": {
      "text/plain": [
       "array([0., 0.])"
      ]
     },
     "execution_count": 77,
     "metadata": {},
     "output_type": "execute_result"
    }
   ],
   "source": [
    "w"
   ]
  },
  {
   "cell_type": "code",
   "execution_count": null,
   "metadata": {},
   "outputs": [],
   "source": [
    "w_acc"
   ]
  },
  {
   "cell_type": "code",
   "execution_count": 49,
   "metadata": {},
   "outputs": [
    {
     "data": {
      "image/png": "[encoded data removed]",
      "text/plain": [
       "<Figure size 432x288 with 1 Axes>"
      ]
     },
     "metadata": {
      "needs_background": "light"
     },
     "output_type": "display_data"
    }
   ],
   "source": [
    "x1=[x[0] for x in path]\n",
    "x2=[x[1] for x in path]\n",
    "plt.text(x1[0],x2[0],'start')\n",
    "plt.text(x1[-1],x2[-1],'end')\n",
    "plt.plot(x1,x2,'-x')\n",
    "plt.savefig('process of training')"
   ]
  },
  {
   "cell_type": "code",
   "execution_count": 51,
   "metadata": {},
   "outputs": [
    {
     "data": {
      "image/png": "[encoded data removed]",
      "text/plain": [
       "<Figure size 432x288 with 1 Axes>"
      ]
     },
     "metadata": {
      "needs_background": "light"
     },
     "output_type": "display_data"
    }
   ],
   "source": [
    "from numpy import linalg as LA\n",
    "\n",
    "w1=np.linspace(-7,7,100)\n",
    "w2=np.linspace(-7,7,100)\n",
    "w_1,w_2=np.meshgrid(w1,w2)\n",
    "\n",
    "matrix_1=np.zeros((100,100))\n",
    "for i in range(len(w1)):\n",
    "    for j in range(len(w2)):\n",
    "        matrix_1[i,j]=LA.norm([w1[i],w2[j]])\n",
    "\n",
    "matrix_2=np.zeros((100,100))\n",
    "for i in range(100):\n",
    "    for j in range(100):\n",
    "        phi_z=[]\n",
    "        for d in range(len(dataset)):\n",
    "            z=y[d]*np.dot([w1[i],w2[j]], dataset[d])\n",
    "            if z>=1:\n",
    "                phi_z.append(0)\n",
    "            if 1-gamma<z<1:\n",
    "                phi_z.append((1-z)**2/(2*gamma))\n",
    "            else:\n",
    "                phi_z.append(1-0.5*gamma-z)\n",
    "        \n",
    "        matrix_2[i,j]=np.sum(phi_z)/100\n",
    "\n",
    "F_w = matrix_1*0.5+matrix_2/100\n",
    "plt.contour(w_1,w_2,F_w)\n",
    "plt.text(x1[0],x2[0],'start')\n",
    "plt.text(x1[-1],x2[-1],'end')\n",
    "plt.plot(x1,x2,'-x')\n",
    "plt.savefig('StdProxGrad training processing of Toy-data')"
   ]
  },
  {
   "cell_type": "code",
   "execution_count": 27,
   "metadata": {},
   "outputs": [],
   "source": [
    "# real UCI dataset verification:\n",
    "real_dataset = pd.read_csv('hepatitis.data')"
   ]
  },
  {
   "cell_type": "code",
   "execution_count": 28,
   "metadata": {},
   "outputs": [],
   "source": [
    "a=real_dataset.pop('Unnamed: 0')"
   ]
  },
  {
   "cell_type": "code",
   "execution_count": 29,
   "metadata": {},
   "outputs": [],
   "source": [
    "y = real_dataset.pop('19')"
   ]
  },
  {
   "cell_type": "code",
   "execution_count": 32,
   "metadata": {},
   "outputs": [],
   "source": [
    "real_dataset['5'] = pd.to_numeric(real_dataset['5'],errors='coerce')\n",
    "real_dataset['6'] = pd.to_numeric(real_dataset['6'],errors='coerce')\n",
    "real_dataset['7'] = pd.to_numeric(real_dataset['7'],errors='coerce')"
   ]
  },
  {
   "cell_type": "code",
   "execution_count": 46,
   "metadata": {},
   "outputs": [],
   "source": [
    "real_dataset['5'].iloc[np.where(real_dataset['5'].isnull())] = np.mean(real_dataset['5'])\n",
    "real_dataset['6'].iloc[np.where(real_dataset['6'].isnull())] = np.mean(real_dataset['6'])\n",
    "real_dataset['7'].iloc[np.where(real_dataset['7'].isnull())] = np.mean(real_dataset['7'])"
   ]
  },
  {
   "cell_type": "code",
   "execution_count": 47,
   "metadata": {},
   "outputs": [],
   "source": [
    "real_dataset_normalized = preprocessing.normalize(real_dataset, norm='l2')"
   ]
  },
  {
   "cell_type": "code",
   "execution_count": 49,
   "metadata": {
    "scrolled": true
   },
   "outputs": [],
   "source": [
    "path,w, h_prox_optval=lasso_proximal_gradient(real_dataset_normalized, y, 0.5,tol=0.001 )"
   ]
  },
  {
   "cell_type": "code",
   "execution_count": 50,
   "metadata": {},
   "outputs": [
    {
     "data": {
      "text/plain": [
       "array([5.64066477, 1.25151044, 0.88746964, 0.76776183, 0.75      ,\n",
       "       0.75      ])"
      ]
     },
     "execution_count": 50,
     "metadata": {},
     "output_type": "execute_result"
    }
   ],
   "source": [
    "h_prox_optval"
   ]
  },
  {
   "cell_type": "code",
   "execution_count": 52,
   "metadata": {},
   "outputs": [],
   "source": [
    "h_diff= []\n",
    "for i in range(len(h_prox_optval)):\n",
    "    h_diff.append(h_prox_optval[i+1]-h_prox_optval[i])\n",
    "    if i == len(h_prox_optval)-2: \n",
    "        break"
   ]
  },
  {
   "cell_type": "code",
   "execution_count": 78,
   "metadata": {},
   "outputs": [
    {
     "name": "stderr",
     "output_type": "stream",
     "text": [
      "C:\\Users\\zhaoyiming\\anaconda3\\lib\\site-packages\\ipykernel_launcher.py:3: RuntimeWarning: divide by zero encountered in log\n",
      "  This is separate from the ipykernel package so we can avoid doing imports until\n"
     ]
    },
    {
     "data": {
      "image/png": "[encoded data removed]",
      "text/plain": [
       "<Figure size 432x288 with 1 Axes>"
      ]
     },
     "metadata": {
      "needs_background": "light"
     },
     "output_type": "display_data"
    }
   ],
   "source": [
    "x=np.arange(1,len(y)+1)\n",
    "y=[i*(-1) for i in h_diff]\n",
    "plt.plot(x,np.log(y))\n",
    "plt.savefig('hepatitis_training_process')"
   ]
  },
  {
   "cell_type": "code",
   "execution_count": null,
   "metadata": {},
   "outputs": [],
   "source": []
  }
 ],
 "metadata": {
  "kernelspec": {
   "display_name": "Python 3",
   "language": "python",
   "name": "python3"
  },
  "language_info": {
   "codemirror_mode": {
    "name": "ipython",
    "version": 3
   },
   "file_extension": ".py",
   "mimetype": "text/x-python",
   "name": "python",
   "nbconvert_exporter": "python",
   "pygments_lexer": "ipython3",
   "version": "3.7.7"
  }
 },
 "nbformat": 4,
 "nbformat_minor": 4
}
