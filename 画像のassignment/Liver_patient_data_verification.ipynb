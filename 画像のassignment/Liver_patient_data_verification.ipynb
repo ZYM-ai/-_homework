{
 "cells": [
  {
   "cell_type": "code",
   "execution_count": 18,
   "metadata": {},
   "outputs": [],
   "source": [
    "import numpy as np\n",
    "import matplotlib.pyplot as plt\n",
    "from numpy import linalg as LA\n",
    "from copy import deepcopy\n",
    "import pandas as pd\n",
    "from sklearn import preprocessing\n",
    "\n",
    "lam = 1/500\n",
    "gamma=0.5\n",
    "def sm_loss(X,y,w):\n",
    "    phi_z=[]\n",
    "    for i in range(len(X)):\n",
    "        z=y[i]*np.dot(w, X[i])\n",
    "        if z>=1:\n",
    "            phi_z.append(0)\n",
    "        elif (1-gamma)<z<1:\n",
    "            phi_z.append((1-z)**2/(2*gamma))\n",
    "        else:\n",
    "            phi_z.append(1-0.5*gamma-z)\n",
    "        \n",
    "    return np.sum(phi_z)\n",
    "def objective(X,y,w, lam):\n",
    "    tmp=[]\n",
    "    n_samples, m_features = X.shape\n",
    "    return sm_loss(X,y,w)/n_samples+lam*np.sum(np.abs(w))\n",
    "\n",
    "def prox(z, m_features):\n",
    "    w = np.zeros(m_features,dtype=float)\n",
    "    for i in range(m_features):\n",
    "        if z[i] > lam:\n",
    "            w[i] = z[i] - lam\n",
    "        elif -lam < z[i] < lam:\n",
    "            w[i]= 0\n",
    "        else:\n",
    "            w[i] = z[i] + lam\n",
    "    return w \n",
    "    \n",
    "def lasso_proximal_gradient(X, y, lam, L=1, max_iter=1000,tol=0.001 ):\n",
    "    beta = 0.5\n",
    "    n_samples, m_features = X.shape\n",
    "    w = np.empty(m_features, dtype=float)\n",
    "    w_pre = np.empty(m_features,dtype=float)\n",
    "    #grad_w=np.empty(m_features,dtype=float)\n",
    "    prox_thres = lam/L\n",
    "    h_prox_optval = np.empty(max_iter, dtype=float)\n",
    "    path=[]\n",
    "    for k in range(max_iter):\n",
    "        los_w_tmp=[]\n",
    "        w_tmp=np.zeros(m_features,dtype=float)\n",
    "        for i,x in enumerate(X):\n",
    "            if (y[i]*np.dot(X[i],w))>=1:\n",
    "                grad_w = np.zeros(m_features,dtype=float)\n",
    "            elif -0.5<(y[i]*np.dot(X[i],w))<1:\n",
    "                grad_w = 2*(1-y[i]*np.dot(X[i],w))*X[i]*y[i]\n",
    "            else:\n",
    "                grad_w = X[i]*y[i]\n",
    "            #w_tmp = np.sign(w-grad_w/L)*np.maximum(np.abs(w-grad_w/L)-prox_thres,0)\n",
    "            z = w - grad_w/L\n",
    "            w_tmp = prox(z, m_features)\n",
    "            w_diff = w_tmp-w\n",
    "            los_w_tmp.append(sm_loss(X, y, w_tmp))\n",
    "            if sm_loss(X, y, w_tmp) <= sm_loss(X, y, w) + np.dot(grad_w, w_diff) + L/2 * np.sum(w_diff**2):\n",
    "                break\n",
    "        L = L / beta\n",
    "        w_pre=deepcopy(w)\n",
    "        w = deepcopy(w_tmp)\n",
    "        path.append(w)\n",
    "        h_prox_optval[k] = objective(X, y,w,lam)\n",
    "        if k>0 and abs(h_prox_optval[k]-h_prox_optval[k-1])<tol:\n",
    "            break\n",
    "    return path,w, h_prox_optval[:k+1]    \n",
    "\n",
    "def lasso_proximal_gradient_acc_ver(X, y, lam, L=1, max_iter=1000,tol=1e-4 ):\n",
    "    beta = 0.5\n",
    "    n_samples, m_features = X.shape\n",
    "    s = [1]*max_iter\n",
    "    w = np.empty(m_features, dtype=float)\n",
    "    v = w\n",
    "    w_pre = np.empty(m_features,dtype=float)\n",
    "    #grad_w=np.empty(m_features,dtype=float)\n",
    "    prox_thres = lam/L\n",
    "    h_prox_optval = np.empty(max_iter, dtype=float)\n",
    "    path=[]\n",
    "    for k in range(max_iter):\n",
    "        los_w_tmp=[]\n",
    "        w_tmp=np.zeros(m_features,dtype=float)\n",
    "        for i,x in enumerate(X):\n",
    "            if (y[i]*np.dot(X[i],w))>=1:\n",
    "                grad_w = np.zeros(m_features,dtype=float)\n",
    "            elif -0.5<(y[i]*np.dot(X[i],w))<1:\n",
    "                grad_w = 2*(1-X[i]*y[i]*w)*X[i]*y[i]\n",
    "            else:\n",
    "                grad_w = X[i]*y[i]\n",
    "            #w_tmp = np.sign(v-grad_w/L)*np.maximum(np.abs(v-grad_w/L)-prox_thres,0)\n",
    "            z = v - grad_w/L\n",
    "            w_tmp = prox(z, m_features)\n",
    "            w_diff = w_tmp-w\n",
    "            los_w_tmp.append(sm_loss(X, y, w_tmp))\n",
    "            if sm_loss(X, y, w_tmp) <= sm_loss(X, y, w) + np.dot(grad_w, w_diff) + L/2 * np.sum(w_diff**2):\n",
    "                break\n",
    "            #if objective(X, y,w_tmp,lam)<objective(X, y,w,lam):\n",
    "                #break\n",
    "        s[k+1]=(1+(1+4*s[k])**(1/2))/2\n",
    "        v=w_tmp + ((1-s[k])/s[k+1])*(w-w_tmp)\n",
    "        L = L / beta\n",
    "        w_pre=deepcopy(w)\n",
    "        w = deepcopy(w_tmp)\n",
    "        path.append(w)\n",
    "        h_prox_optval[k] = objective(X, y,w,lam)\n",
    "        if k>0 and abs(h_prox_optval[k]-h_prox_optval[k-1])<tol:\n",
    "            break\n",
    "    return path,w, h_prox_optval[:k+1]   "
   ]
  },
  {
   "cell_type": "code",
   "execution_count": 19,
   "metadata": {},
   "outputs": [],
   "source": [
    "real_dataset = pd.read_csv('Liver_patient_data',header=0)\n",
    "y = real_dataset.pop('10')"
   ]
  },
  {
   "cell_type": "code",
   "execution_count": 20,
   "metadata": {},
   "outputs": [],
   "source": [
    "m=round(real_dataset['9'].mean(),2)\n",
    "real_dataset['9'].fillna(m, inplace=True)"
   ]
  },
  {
   "cell_type": "code",
   "execution_count": 21,
   "metadata": {},
   "outputs": [],
   "source": [
    "real_dataset_normalized = preprocessing.normalize(real_dataset, norm='l2')"
   ]
  },
  {
   "cell_type": "code",
   "execution_count": 5,
   "metadata": {},
   "outputs": [],
   "source": [
    "path,w, h_prox_optval=lasso_proximal_gradient(real_dataset_normalized, y, 0.1,tol=0.001 )"
   ]
  },
  {
   "cell_type": "code",
   "execution_count": 6,
   "metadata": {},
   "outputs": [],
   "source": [
    "path_acc,w_acc, h_prox_optval_acc=lasso_proximal_gradient_acc_ver(real_dataset_normalized, y, 0.1,tol=0.001 )"
   ]
  },
  {
   "cell_type": "code",
   "execution_count": 9,
   "metadata": {},
   "outputs": [
    {
     "data": {
      "text/plain": [
       "array([-0.69759306,  0.18881885,  0.10105435,  0.        ,  0.        ,\n",
       "        0.        ,  0.        ,  0.081796  ,  0.32695812,  0.31932178])"
      ]
     },
     "execution_count": 9,
     "metadata": {},
     "output_type": "execute_result"
    }
   ],
   "source": [
    "w_acc"
   ]
  },
  {
   "cell_type": "code",
   "execution_count": 28,
   "metadata": {},
   "outputs": [],
   "source": [
    "lambd = np.arange( 0, 1, 0.01 ) "
   ]
  },
  {
   "cell_type": "code",
   "execution_count": 29,
   "metadata": {},
   "outputs": [],
   "source": [
    "non_zero_coe = []\n",
    "for lam in lambd:\n",
    "    path,w, h_prox_optval=lasso_proximal_gradient(real_dataset_normalized, y, lam ,tol=0.001 )\n",
    "    non_zero_coe.append(np.count_nonzero(w))"
   ]
  },
  {
   "cell_type": "code",
   "execution_count": 32,
   "metadata": {},
   "outputs": [],
   "source": [
    "non_zero_coe_acc = []\n",
    "for lam in lambd:\n",
    "    path_acc,w_acc, h_prox_optval_acc=lasso_proximal_gradient_acc_ver(real_dataset_normalized, y, lam,tol=0.001 ) \n",
    "    non_zero_coe_acc.append(np.count_nonzero(w_acc))"
   ]
  },
  {
   "cell_type": "code",
   "execution_count": 34,
   "metadata": {},
   "outputs": [
    {
     "data": {
      "image/png": "[encoded data removed]",
      "text/plain": [
       "<Figure size 432x288 with 1 Axes>"
      ]
     },
     "metadata": {
      "needs_background": "light"
     },
     "output_type": "display_data"
    }
   ],
   "source": [
    "plt.xlabel('lambda')\n",
    "plt.ylabel('numbers of non-zero coefficient')\n",
    "plt.plot(lambd,non_zero_coe, label = 'StdProxGrad')\n",
    "plt.plot(lambd,non_zero_coe_acc, label='AccProxGrad')\n",
    "plt.legend()\n",
    "plt.savefig('Non-zero coe num against lam')"
   ]
  },
  {
   "cell_type": "code",
   "execution_count": 33,
   "metadata": {},
   "outputs": [
    {
     "data": {
      "text/plain": [
       "[<matplotlib.lines.Line2D at 0x2e30bd10488>]"
      ]
     },
     "execution_count": 33,
     "metadata": {},
     "output_type": "execute_result"
    },
    {
     "data": {
      "image/png": "[encoded data removed]",
      "text/plain": [
       "<Figure size 432x288 with 1 Axes>"
      ]
     },
     "metadata": {
      "needs_background": "light"
     },
     "output_type": "display_data"
    }
   ],
   "source": [
    "plt.plot(lambd,non_zero_coe_acc)"
   ]
  },
  {
   "cell_type": "code",
   "execution_count": 81,
   "metadata": {},
   "outputs": [],
   "source": [
    "F_w_star = 0.75 "
   ]
  },
  {
   "cell_type": "code",
   "execution_count": 93,
   "metadata": {},
   "outputs": [],
   "source": [
    "h_diff= []\n",
    "for i in range(len(h_prox_optval)):\n",
    "    h_diff.append(h_prox_optval[i]-F_w_star)\n",
    "\n",
    "h_diff_acc= []\n",
    "for i in range(len(h_prox_optval_acc)):\n",
    "    h_diff_acc.append(h_prox_optval_acc[i]-F_w_star)\n",
    "    "
   ]
  },
  {
   "cell_type": "code",
   "execution_count": 94,
   "metadata": {},
   "outputs": [
    {
     "name": "stderr",
     "output_type": "stream",
     "text": [
      "C:\\Users\\zhaoyiming\\anaconda3\\lib\\site-packages\\ipykernel_launcher.py:9: RuntimeWarning: invalid value encountered in log\n",
      "  if __name__ == '__main__':\n"
     ]
    },
    {
     "data": {
      "image/png": "[encoded data removed]",
      "text/plain": [
       "<Figure size 432x288 with 1 Axes>"
      ]
     },
     "metadata": {
      "needs_background": "light"
     },
     "output_type": "display_data"
    }
   ],
   "source": [
    "y=[i for i in h_diff]\n",
    "x=np.arange(1,len(y)+1)\n",
    "y_acc=[i for i in h_diff_acc]\n",
    "x_acc=np.arange(1,len(y_acc)+1)\n",
    "plt.title('Liver patient data')\n",
    "plt.xlabel('iteration')\n",
    "plt.ylabel('log(F(w)-F(w*))')\n",
    "plt.plot(x, np.log(y),label='StdProxGrad')\n",
    "plt.plot(x_acc, np.log(y_acc),label='AccProxGrad')\n",
    "plt.legend()\n",
    "plt.savefig('Liver_patient_training_process')"
   ]
  },
  {
   "cell_type": "code",
   "execution_count": null,
   "metadata": {},
   "outputs": [],
   "source": []
  }
 ],
 "metadata": {
  "kernelspec": {
   "display_name": "Python 3",
   "language": "python",
   "name": "python3"
  },
  "language_info": {
   "codemirror_mode": {
    "name": "ipython",
    "version": 3
   },
   "file_extension": ".py",
   "mimetype": "text/x-python",
   "name": "python",
   "nbconvert_exporter": "python",
   "pygments_lexer": "ipython3",
   "version": "3.7.7"
  }
 },
 "nbformat": 4,
 "nbformat_minor": 4
}
