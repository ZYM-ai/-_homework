{
 "cells": [
  {
   "cell_type": "code",
   "execution_count": 7,
   "metadata": {},
   "outputs": [],
   "source": [
    "import pandas as pd\n",
    "data = pd.read_csv('Liver_patient_dataset.csv', header=None)\n",
    "#label:c(dummy variable)\n",
    "for i in range(len(data)):\n",
    "    if data.at[i,10]==2:\n",
    "        data.at[i,10]= -1\n",
    "#age:cn(centerize & normalize)\n",
    "mean= data[0].mean()\n",
    "std = data[0].std()\n",
    "data[0] = (data[0]-mean)/std\n",
    "#gender:c(dummy variable)\n",
    "for i in range(len(data)):\n",
    "    if data.at[i,1]=='Female':\n",
    "        data.at[i,1]= 0\n",
    "    else:\n",
    "        data.at[i,1] = 1\n",
    "#TotalBilirubin: delete the row outlier located\n",
    "data = data.drop(data[data[2]==data[2].max()].index.tolist())\n",
    "#DirectBilirubin:cn\n",
    "mean = data[3].mean()\n",
    "std= data[3].std()\n",
    "data[3] = (data[3]-mean)/std\n",
    "#Phosphotase :cn\n",
    "mean = data[4].mean()\n",
    "std= data[4].std()\n",
    "data[4] = (data[4]-mean)/std\n",
    "#Sgpt Alamine Aminotransferase:cn\n",
    "mean=data[5].mean()\n",
    "std=data[5].std()\n",
    "data[5]=(data[5]-mean)/std\n",
    "#Sgot Aspartate Aminotransferase:cn\n",
    "mean=data[6].mean()\n",
    "std=data[6].std()\n",
    "data[6]=(data[6]-mean)/std\n",
    "#Total Protiens:cn\n",
    "mean=data[7].mean()\n",
    "std=data[7].std()\n",
    "data[7]=(data[7]-mean)/std\n",
    "#Albumin: cn\n",
    "mean=data[8].mean()\n",
    "std=data[8].std()\n",
    "data[8]=(data[8]-mean)/std\n",
    "#Ratio Albumin and Globulin Ratio: u(do nothing)\n",
    "data.head()\n",
    "#data.to_csv('Liver_patient_data', index=False)"
   ]
  },
  {
   "cell_type": "code",
   "execution_count": null,
   "metadata": {},
   "outputs": [],
   "source": []
  }
 ],
 "metadata": {
  "kernelspec": {
   "display_name": "Python 3",
   "language": "python",
   "name": "python3"
  },
  "language_info": {
   "codemirror_mode": {
    "name": "ipython",
    "version": 3
   },
   "file_extension": ".py",
   "mimetype": "text/x-python",
   "name": "python",
   "nbconvert_exporter": "python",
   "pygments_lexer": "ipython3",
   "version": "3.7.7"
  }
 },
 "nbformat": 4,
 "nbformat_minor": 4
}
